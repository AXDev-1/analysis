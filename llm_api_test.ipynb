{
 "cells": [
  {
   "cell_type": "code",
   "execution_count": 6,
   "id": "c3cf656c-3ac5-43d9-80b3-8ce9bb68d9f5",
   "metadata": {},
   "outputs": [
    {
     "ename": "SystemExit",
     "evalue": "⚠️ API 키가 설정되지 않았습니다.\n1) Web UI → Settings → API 탭에서 키 생성\n2) 환경 변수에 등록: export OPENWEBUI_API_KEY=your_key\n",
     "output_type": "error",
     "traceback": [
      "An exception has occurred, use %tb to see the full traceback.\n",
      "\u001b[0;31mSystemExit\u001b[0m\u001b[0;31m:\u001b[0m ⚠️ API 키가 설정되지 않았습니다.\n1) Web UI → Settings → API 탭에서 키 생성\n2) 환경 변수에 등록: export OPENWEBUI_API_KEY=your_key\n\n"
     ]
    },
    {
     "name": "stdout",
     "output_type": "stream",
     "text": [
      "The history saving thread hit an unexpected error (OperationalError('database or disk is full')).History will not be written to the database.\n"
     ]
    }
   ],
   "source": [
    "import os\n",
    "import sys\n",
    "import requests\n",
    "\n",
    "# 1) API 키 가져오기 (환경변수 또는 .env 활용 권장)\n",
    "API_KEY = os.getenv(\"OPENWEBUI_API_KEY\")\n",
    "if not API_KEY:\n",
    "    sys.exit(\n",
    "        \"⚠️ API 키가 설정되지 않았습니다.\\n\"\n",
    "        \"1) Web UI → Settings → API 탭에서 키 생성\\n\"\n",
    "        \"2) 환경 변수에 등록: export OPENWEBUI_API_KEY=your_key\\n\"\n",
    "    )\n",
    "\n",
    "# 2) 엔드포인트 및 헤더 정의\n",
    "API_URL = \"http://localhost:11434/v1/chat/completions\"\n",
    "headers = {\n",
    "    \"Authorization\": f\"Bearer {API_KEY}\",        # Ollama는 기본 키가 없어도 동작하지만, 호환을 위해 지정\n",
    "    \"Content-Type\": \"application/json\",\n",
    "}\n",
    "\n",
    "# 3) 페이로드 구성\n",
    "payload = {\n",
    "    \"model\": \"llama2\",\n",
    "    \"messages\": [\n",
    "        {\"role\": \"user\", \"content\": \"테스트\"}\n",
    "    ],\n",
    "    \"temperature\": 0.7,\n",
    "    # \"stream\": True  # 실시간 토큰 스트리밍이 필요하다면 활성화\n",
    "}\n",
    "\n",
    "# 4) 요청 및 결과 처리\n",
    "try:\n",
    "    resp = requests.post(API_URL, headers=headers, json=payload, timeout=30)\n",
    "    resp.raise_for_status()\n",
    "    data = resp.json()\n",
    "    # 전체 응답 출력\n",
    "    print(data)\n",
    "    # assistant의 메시지만 추출\n",
    "    answer = data[\"choices\"][0][\"message\"][\"content\"]\n",
    "    print(\"Assistant:\", answer)\n",
    "except requests.exceptions.RequestException as e:\n",
    "    print(f\"❌ 호출 실패: {e}\")\n"
   ]
  },
  {
   "cell_type": "code",
   "execution_count": null,
   "id": "85aca078-ad64-4b18-9791-76f348e1b38e",
   "metadata": {},
   "outputs": [],
   "source": []
  },
  {
   "cell_type": "code",
   "execution_count": null,
   "id": "5b2f8f16-0571-4c68-b8a9-8519d2ef67ae",
   "metadata": {},
   "outputs": [],
   "source": []
  }
 ],
 "metadata": {
  "kernelspec": {
   "display_name": "Python 3 (ipykernel)",
   "language": "python",
   "name": "python3"
  },
  "language_info": {
   "codemirror_mode": {
    "name": "ipython",
    "version": 3
   },
   "file_extension": ".py",
   "mimetype": "text/x-python",
   "name": "python",
   "nbconvert_exporter": "python",
   "pygments_lexer": "ipython3",
   "version": "3.10.0"
  }
 },
 "nbformat": 4,
 "nbformat_minor": 5
}
